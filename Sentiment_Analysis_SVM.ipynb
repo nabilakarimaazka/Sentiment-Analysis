{
 "cells": [
  {
   "cell_type": "code",
   "execution_count": 1,
   "id": "f05aafb6",
   "metadata": {},
   "outputs": [],
   "source": [
    "import string\n",
    "from sklearn.pipeline import Pipeline\n",
    "import pandas as pd\n",
    "import numpy as np"
   ]
  },
  {
   "cell_type": "code",
   "execution_count": 2,
   "id": "2bcfc724",
   "metadata": {},
   "outputs": [
    {
     "data": {
      "text/html": [
       "<div>\n",
       "<style scoped>\n",
       "    .dataframe tbody tr th:only-of-type {\n",
       "        vertical-align: middle;\n",
       "    }\n",
       "\n",
       "    .dataframe tbody tr th {\n",
       "        vertical-align: top;\n",
       "    }\n",
       "\n",
       "    .dataframe thead th {\n",
       "        text-align: right;\n",
       "    }\n",
       "</style>\n",
       "<table border=\"1\" class=\"dataframe\">\n",
       "  <thead>\n",
       "    <tr style=\"text-align: right;\">\n",
       "      <th></th>\n",
       "      <th>review</th>\n",
       "      <th>rating</th>\n",
       "    </tr>\n",
       "  </thead>\n",
       "  <tbody>\n",
       "    <tr>\n",
       "      <th>0</th>\n",
       "      <td>point i’v mostli use chatgpt window desktop us...</td>\n",
       "      <td>positif</td>\n",
       "    </tr>\n",
       "    <tr>\n",
       "      <th>1</th>\n",
       "      <td>i’v user sinc it’ initi roll wait mobil applic...</td>\n",
       "      <td>positif</td>\n",
       "    </tr>\n",
       "    <tr>\n",
       "      <th>2</th>\n",
       "      <td>app would almost perfect wasn’t one littl thin...</td>\n",
       "      <td>positif</td>\n",
       "    </tr>\n",
       "    <tr>\n",
       "      <th>3</th>\n",
       "      <td>recent download app overal great platform exce...</td>\n",
       "      <td>positif</td>\n",
       "    </tr>\n",
       "    <tr>\n",
       "      <th>4</th>\n",
       "      <td>appreci dev implement siri support—it alreadi ...</td>\n",
       "      <td>positif</td>\n",
       "    </tr>\n",
       "  </tbody>\n",
       "</table>\n",
       "</div>"
      ],
      "text/plain": [
       "                                              review   rating\n",
       "0  point i’v mostli use chatgpt window desktop us...  positif\n",
       "1  i’v user sinc it’ initi roll wait mobil applic...  positif\n",
       "2  app would almost perfect wasn’t one littl thin...  positif\n",
       "3  recent download app overal great platform exce...  positif\n",
       "4  appreci dev implement siri support—it alreadi ...  positif"
      ]
     },
     "execution_count": 2,
     "metadata": {},
     "output_type": "execute_result"
    }
   ],
   "source": [
    "import pandas as pd\n",
    "\n",
    "df = pd.read_csv('C:/Users/HP/sentiment analysis/review_chatgpt.csv',sep=',')\n",
    "df.head()"
   ]
  },
  {
   "cell_type": "code",
   "execution_count": 3,
   "id": "eebd943c",
   "metadata": {},
   "outputs": [
    {
     "data": {
      "text/html": [
       "<div>\n",
       "<style scoped>\n",
       "    .dataframe tbody tr th:only-of-type {\n",
       "        vertical-align: middle;\n",
       "    }\n",
       "\n",
       "    .dataframe tbody tr th {\n",
       "        vertical-align: top;\n",
       "    }\n",
       "\n",
       "    .dataframe thead th {\n",
       "        text-align: right;\n",
       "    }\n",
       "</style>\n",
       "<table border=\"1\" class=\"dataframe\">\n",
       "  <thead>\n",
       "    <tr style=\"text-align: right;\">\n",
       "      <th></th>\n",
       "      <th>review</th>\n",
       "      <th>rating</th>\n",
       "    </tr>\n",
       "  </thead>\n",
       "  <tbody>\n",
       "    <tr>\n",
       "      <th>0</th>\n",
       "      <td>point i’v mostli use chatgpt window desktop us...</td>\n",
       "      <td>positif</td>\n",
       "    </tr>\n",
       "    <tr>\n",
       "      <th>1</th>\n",
       "      <td>i’v user sinc it’ initi roll wait mobil applic...</td>\n",
       "      <td>positif</td>\n",
       "    </tr>\n",
       "    <tr>\n",
       "      <th>2</th>\n",
       "      <td>app would almost perfect wasn’t one littl thin...</td>\n",
       "      <td>positif</td>\n",
       "    </tr>\n",
       "    <tr>\n",
       "      <th>3</th>\n",
       "      <td>recent download app overal great platform exce...</td>\n",
       "      <td>positif</td>\n",
       "    </tr>\n",
       "    <tr>\n",
       "      <th>4</th>\n",
       "      <td>appreci dev implement siri support—it alreadi ...</td>\n",
       "      <td>positif</td>\n",
       "    </tr>\n",
       "    <tr>\n",
       "      <th>...</th>\n",
       "      <td>...</td>\n",
       "      <td>...</td>\n",
       "    </tr>\n",
       "    <tr>\n",
       "      <th>2243</th>\n",
       "      <td>come free trial chatgptgpt midjourney one place</td>\n",
       "      <td>positif</td>\n",
       "    </tr>\n",
       "    <tr>\n",
       "      <th>2244</th>\n",
       "      <td>begin someth crazi let y’all know i’v sinc day...</td>\n",
       "      <td>positif</td>\n",
       "    </tr>\n",
       "    <tr>\n",
       "      <th>2245</th>\n",
       "      <td>i’v use chat proud premium subscrib awhil help...</td>\n",
       "      <td>positif</td>\n",
       "    </tr>\n",
       "    <tr>\n",
       "      <th>2246</th>\n",
       "      <td>chatgpt io app outstand product seamless funct...</td>\n",
       "      <td>positif</td>\n",
       "    </tr>\n",
       "    <tr>\n",
       "      <th>2247</th>\n",
       "      <td>sam altman’ blatant attempt regulatori captur ...</td>\n",
       "      <td>negatif</td>\n",
       "    </tr>\n",
       "  </tbody>\n",
       "</table>\n",
       "<p>2248 rows × 2 columns</p>\n",
       "</div>"
      ],
      "text/plain": [
       "                                                 review   rating\n",
       "0     point i’v mostli use chatgpt window desktop us...  positif\n",
       "1     i’v user sinc it’ initi roll wait mobil applic...  positif\n",
       "2     app would almost perfect wasn’t one littl thin...  positif\n",
       "3     recent download app overal great platform exce...  positif\n",
       "4     appreci dev implement siri support—it alreadi ...  positif\n",
       "...                                                 ...      ...\n",
       "2243    come free trial chatgptgpt midjourney one place  positif\n",
       "2244  begin someth crazi let y’all know i’v sinc day...  positif\n",
       "2245  i’v use chat proud premium subscrib awhil help...  positif\n",
       "2246  chatgpt io app outstand product seamless funct...  positif\n",
       "2247  sam altman’ blatant attempt regulatori captur ...  negatif\n",
       "\n",
       "[2248 rows x 2 columns]"
      ]
     },
     "execution_count": 3,
     "metadata": {},
     "output_type": "execute_result"
    }
   ],
   "source": [
    "df.dropna()"
   ]
  },
  {
   "cell_type": "code",
   "execution_count": 4,
   "id": "e3682102",
   "metadata": {},
   "outputs": [
    {
     "data": {
      "text/plain": [
       "(2248, 2)"
      ]
     },
     "execution_count": 4,
     "metadata": {},
     "output_type": "execute_result"
    }
   ],
   "source": [
    "df.shape"
   ]
  },
  {
   "cell_type": "code",
   "execution_count": 5,
   "id": "b33659b4",
   "metadata": {},
   "outputs": [
    {
     "data": {
      "text/plain": [
       "review      string\n",
       "rating    category\n",
       "dtype: object"
      ]
     },
     "execution_count": 5,
     "metadata": {},
     "output_type": "execute_result"
    }
   ],
   "source": [
    "df = df.astype({'rating' : 'category'})\n",
    "df = df.astype({'review' : 'string'})\n",
    "df.dtypes"
   ]
  },
  {
   "cell_type": "code",
   "execution_count": 6,
   "id": "97b05ae1",
   "metadata": {},
   "outputs": [
    {
     "data": {
      "text/plain": [
       "<2248x5191 sparse matrix of type '<class 'numpy.float64'>'\n",
       "\twith 38236 stored elements in Compressed Sparse Row format>"
      ]
     },
     "execution_count": 6,
     "metadata": {},
     "output_type": "execute_result"
    }
   ],
   "source": [
    "#proses TF-IDF\n",
    "from sklearn.feature_extraction.text import CountVectorizer\n",
    "from sklearn.feature_extraction.text import TfidfVectorizer\n",
    "\n",
    "tf = TfidfVectorizer()\n",
    "text_tf = tf.fit_transform(df['review'].astype('U'))\n",
    "text_tf"
   ]
  },
  {
   "cell_type": "code",
   "execution_count": 7,
   "id": "6799a877",
   "metadata": {},
   "outputs": [],
   "source": [
    "#splitting data\n",
    "from sklearn.model_selection import train_test_split\n",
    "\n",
    "X_train, X_test, y_train, y_test = train_test_split(text_tf, df['rating'], test_size=0.2, random_state=0)"
   ]
  },
  {
   "cell_type": "code",
   "execution_count": 8,
   "id": "5d0c7390",
   "metadata": {},
   "outputs": [
    {
     "name": "stdout",
     "output_type": "stream",
     "text": [
      "Before OverSampling, counts of label 'POSITIF': 1123\n",
      "Before OverSampling, counts of label 'NEGATIF': 501\n",
      "Before OverSampling, counts of label 'NETRAL': 174\n",
      "After Oversampling, the sahpe of train_X: (3369, 5191)\n",
      "After Oversampling, the sahpe of train_y: (3369,)\n",
      "After OverSampling, counts of label 'POSITIF': 1123\n",
      "After OverSampling, counts of label 'NEGATIF': 1123\n",
      "Before OverSampling, counts of label 'NETRAL': 1123\n"
     ]
    }
   ],
   "source": [
    "print(\"Before OverSampling, counts of label 'POSITIF': {}\".format(sum(y_train == 'positif')))\n",
    "print(\"Before OverSampling, counts of label 'NEGATIF': {}\".format(sum(y_train == 'negatif')))\n",
    "print(\"Before OverSampling, counts of label 'NETRAL': {}\".format(sum(y_train == 'netral')))\n",
    "\n",
    "from imblearn.over_sampling import SMOTE\n",
    "sm = SMOTE(random_state = 0)\n",
    "X_train_res, y_train_res = sm.fit_resample(X_train, y_train.ravel())\n",
    "\n",
    "print('After Oversampling, the sahpe of train_X: {}'.format(X_train_res.shape))\n",
    "print('After Oversampling, the sahpe of train_y: {}'.format(y_train_res.shape))\n",
    "\n",
    "print(\"After OverSampling, counts of label 'POSITIF': {}\".format(sum(y_train_res == 'positif')))\n",
    "print(\"After OverSampling, counts of label 'NEGATIF': {}\".format(sum(y_train_res == 'negatif')))\n",
    "print(\"Before OverSampling, counts of label 'NETRAL': {}\".format(sum(y_train_res == 'netral')))"
   ]
  },
  {
   "cell_type": "code",
   "execution_count": 9,
   "id": "1b03fa3b",
   "metadata": {},
   "outputs": [
    {
     "name": "stdout",
     "output_type": "stream",
     "text": [
      "Akurasi SVM:  0.7177777777777777\n",
      "Akurasi Precision:  0.691398814893132\n",
      "Akurasi Recall:  0.7177777777777777\n",
      "Akurasi F1:  0.6696485100253724\n",
      "confusion matrix:\n",
      " [[ 55   2  68]\n",
      " [  5   2  39]\n",
      " [ 11   2 266]]\n",
      "------------------------------------------------------\n",
      "\n",
      "              precision    recall  f1-score   support\n",
      "\n",
      "     negatif       0.77      0.44      0.56       125\n",
      "      netral       0.33      0.04      0.08        46\n",
      "     positif       0.71      0.95      0.82       279\n",
      "\n",
      "    accuracy                           0.72       450\n",
      "   macro avg       0.61      0.48      0.48       450\n",
      "weighted avg       0.69      0.72      0.67       450\n",
      "\n"
     ]
    }
   ],
   "source": [
    "from sklearn import svm\n",
    "from sklearn.metrics import accuracy_score, precision_score, recall_score, f1_score\n",
    "from sklearn.metrics import classification_report\n",
    "from sklearn.metrics import confusion_matrix\n",
    "\n",
    "clf = svm.SVC(kernel='rbf').fit(X_train_res, y_train_res)\n",
    "predicted = clf.predict(X_test)\n",
    "\n",
    "print(\"Akurasi SVM: \", accuracy_score(y_test, predicted))\n",
    "print(\"Akurasi Precision: \", precision_score(y_test, predicted, average='weighted'))\n",
    "print(\"Akurasi Recall: \", recall_score(y_test, predicted, average='weighted'))\n",
    "print(\"Akurasi F1: \", f1_score(y_test, predicted, average='weighted'))\n",
    "\n",
    "print(f'confusion matrix:\\n {confusion_matrix(y_test, predicted)}')\n",
    "print('------------------------------------------------------\\n')\n",
    "print(classification_report(y_test, predicted, zero_division=0))"
   ]
  },
  {
   "cell_type": "code",
   "execution_count": 10,
   "id": "7a87a5b5",
   "metadata": {},
   "outputs": [
    {
     "name": "stdout",
     "output_type": "stream",
     "text": [
      "Accuray: 71.78%\n",
      "\n",
      "F1 Score: 66.96%\n",
      "\n",
      "Confusion Matrix:\n",
      " [[ 55   2  68]\n",
      " [  5   2  39]\n",
      " [ 11   2 266]]\n"
     ]
    }
   ],
   "source": [
    "from sklearn.metrics import accuracy_score, f1_score, confusion_matrix\n",
    "\n",
    "print(\"Accuray: {:.2f}%\".format(accuracy_score(y_test, predicted) * 100))\n",
    "print(\"\\nF1 Score: {:.2f}%\".format(f1_score(y_test, predicted, average='weighted') * 100))\n",
    "print(\"\\nConfusion Matrix:\\n\",confusion_matrix(y_test, predicted))"
   ]
  },
  {
   "cell_type": "code",
   "execution_count": 11,
   "id": "bb0fb089",
   "metadata": {},
   "outputs": [],
   "source": [
    "from matplotlib import pyplot as plt"
   ]
  },
  {
   "cell_type": "code",
   "execution_count": 12,
   "id": "8116a762",
   "metadata": {},
   "outputs": [
    {
     "data": {
      "image/png": "[encoded data removed]",
      "text/plain": [
       "<Figure size 576x360 with 2 Axes>"
      ]
     },
     "metadata": {
      "needs_background": "light"
     },
     "output_type": "display_data"
    }
   ],
   "source": [
    "import seaborn as sns\n",
    "f, ax = plt.subplots(figsize=(8,5))\n",
    "sns.heatmap(confusion_matrix(y_test, predicted), annot=True, fmt=\".0f\", ax=ax)\n",
    "plt.xlabel(\"y_head\")\n",
    "plt.ylabel(\"y_true\")\n",
    "plt.show()"
   ]
  },
  {
   "cell_type": "code",
   "execution_count": 13,
   "id": "e98db704",
   "metadata": {},
   "outputs": [
    {
     "name": "stdout",
     "output_type": "stream",
     "text": [
      "Proses Training Support Vector Machine Selesai!\n"
     ]
    }
   ],
   "source": [
    "import os\n",
    "import pickle\n",
    "from sklearn.pipeline import Pipeline\n",
    "from sklearn.feature_extraction.text import TfidfTransformer\n",
    "\n",
    "X = df.review\n",
    "y = df.rating\n",
    "\n",
    "text_classifier = Pipeline([('tf', TfidfVectorizer()),\n",
    "                     ('tfidf', TfidfTransformer()),\n",
    "                     ('classifier', svm.SVC(kernel='rbf')),\n",
    "                     ]) \n",
    "X_train = np.asarray(X)\n",
    "text_classifier = text_classifier.fit(X_train, np.asarray(y))\n",
    "\n",
    "#save to Pickle\n",
    "files = open('model_classifier_svm.pickle', 'wb')\n",
    "pickle.dump(text_classifier, files)\n",
    "files.close()\n",
    "\n",
    "print('Proses Training Support Vector Machine Selesai!')"
   ]
  },
  {
   "cell_type": "code",
   "execution_count": 14,
   "id": "43de5614",
   "metadata": {},
   "outputs": [
    {
     "name": "stdout",
     "output_type": "stream",
     "text": [
      "Pipeline(steps=[('tf', TfidfVectorizer()), ('tfidf', TfidfTransformer()),\n",
      "                ('classifier', SVC())])\n"
     ]
    }
   ],
   "source": [
    "model = open('model_classifier_svm.pickle', 'rb')\n",
    "svm_classifier = pickle.load(model)\n",
    "print(svm_classifier)"
   ]
  },
  {
   "cell_type": "code",
   "execution_count": 16,
   "id": "52d3e560",
   "metadata": {},
   "outputs": [
    {
     "data": {
      "text/html": [
       "<div>\n",
       "<style scoped>\n",
       "    .dataframe tbody tr th:only-of-type {\n",
       "        vertical-align: middle;\n",
       "    }\n",
       "\n",
       "    .dataframe tbody tr th {\n",
       "        vertical-align: top;\n",
       "    }\n",
       "\n",
       "    .dataframe thead th {\n",
       "        text-align: right;\n",
       "    }\n",
       "</style>\n",
       "<table border=\"1\" class=\"dataframe\">\n",
       "  <thead>\n",
       "    <tr style=\"text-align: right;\">\n",
       "      <th></th>\n",
       "      <th>review</th>\n",
       "    </tr>\n",
       "  </thead>\n",
       "  <tbody>\n",
       "    <tr>\n",
       "      <th>0</th>\n",
       "      <td>Up to this point I’ve mostly been using ChatGP...</td>\n",
       "    </tr>\n",
       "    <tr>\n",
       "      <th>1</th>\n",
       "      <td>I’ve been a user since it’s initial roll out a...</td>\n",
       "    </tr>\n",
       "    <tr>\n",
       "      <th>2</th>\n",
       "      <td>This app would almost be perfect if it wasn’t ...</td>\n",
       "    </tr>\n",
       "    <tr>\n",
       "      <th>3</th>\n",
       "      <td>I recently downloaded the app and overall, it'...</td>\n",
       "    </tr>\n",
       "    <tr>\n",
       "      <th>4</th>\n",
       "      <td>I appreciate the devs implementing Siri suppor...</td>\n",
       "    </tr>\n",
       "  </tbody>\n",
       "</table>\n",
       "</div>"
      ],
      "text/plain": [
       "                                              review\n",
       "0  Up to this point I’ve mostly been using ChatGP...\n",
       "1  I’ve been a user since it’s initial roll out a...\n",
       "2  This app would almost be perfect if it wasn’t ...\n",
       "3  I recently downloaded the app and overall, it'...\n",
       "4  I appreciate the devs implementing Siri suppor..."
      ]
     },
     "execution_count": 16,
     "metadata": {},
     "output_type": "execute_result"
    }
   ],
   "source": [
    "df_review = pd.read_csv('C:/Users/HP/sentiment analysis/chatgpt_reviews_test.csv')\n",
    "df_review = pd.DataFrame(df_review)\n",
    "df_review = df_review.dropna()\n",
    "df_review.head()"
   ]
  },
  {
   "cell_type": "code",
   "execution_count": 17,
   "id": "011858d0",
   "metadata": {},
   "outputs": [],
   "source": [
    "review = df_review.review"
   ]
  },
  {
   "cell_type": "code",
   "execution_count": 18,
   "id": "cd265828",
   "metadata": {},
   "outputs": [
    {
     "data": {
      "text/html": [
       "<div>\n",
       "<style scoped>\n",
       "    .dataframe tbody tr th:only-of-type {\n",
       "        vertical-align: middle;\n",
       "    }\n",
       "\n",
       "    .dataframe tbody tr th {\n",
       "        vertical-align: top;\n",
       "    }\n",
       "\n",
       "    .dataframe thead th {\n",
       "        text-align: right;\n",
       "    }\n",
       "</style>\n",
       "<table border=\"1\" class=\"dataframe\">\n",
       "  <thead>\n",
       "    <tr style=\"text-align: right;\">\n",
       "      <th></th>\n",
       "      <th>review</th>\n",
       "    </tr>\n",
       "  </thead>\n",
       "  <tbody>\n",
       "    <tr>\n",
       "      <th>0</th>\n",
       "      <td>Up to this point I’ve mostly been using ChatGP...</td>\n",
       "    </tr>\n",
       "    <tr>\n",
       "      <th>1</th>\n",
       "      <td>I’ve been a user since it’s initial roll out a...</td>\n",
       "    </tr>\n",
       "    <tr>\n",
       "      <th>2</th>\n",
       "      <td>This app would almost be perfect if it wasn’t ...</td>\n",
       "    </tr>\n",
       "    <tr>\n",
       "      <th>3</th>\n",
       "      <td>I recently downloaded the app and overall, it'...</td>\n",
       "    </tr>\n",
       "    <tr>\n",
       "      <th>4</th>\n",
       "      <td>I appreciate the devs implementing Siri suppor...</td>\n",
       "    </tr>\n",
       "    <tr>\n",
       "      <th>...</th>\n",
       "      <td>...</td>\n",
       "    </tr>\n",
       "    <tr>\n",
       "      <th>2287</th>\n",
       "      <td>This has to be a beginning to something crazy ...</td>\n",
       "    </tr>\n",
       "    <tr>\n",
       "      <th>2288</th>\n",
       "      <td>I’ve been using chat and have been a proud pre...</td>\n",
       "    </tr>\n",
       "    <tr>\n",
       "      <th>2289</th>\n",
       "      <td>The ChatGPT iOS app is an outstanding product....</td>\n",
       "    </tr>\n",
       "    <tr>\n",
       "      <th>2290</th>\n",
       "      <td>Sam Altman’s blatant attempt at regulatory cap...</td>\n",
       "    </tr>\n",
       "    <tr>\n",
       "      <th>2291</th>\n",
       "      <td>.</td>\n",
       "    </tr>\n",
       "  </tbody>\n",
       "</table>\n",
       "<p>2292 rows × 1 columns</p>\n",
       "</div>"
      ],
      "text/plain": [
       "                                                 review\n",
       "0     Up to this point I’ve mostly been using ChatGP...\n",
       "1     I’ve been a user since it’s initial roll out a...\n",
       "2     This app would almost be perfect if it wasn’t ...\n",
       "3     I recently downloaded the app and overall, it'...\n",
       "4     I appreciate the devs implementing Siri suppor...\n",
       "...                                                 ...\n",
       "2287  This has to be a beginning to something crazy ...\n",
       "2288  I’ve been using chat and have been a proud pre...\n",
       "2289  The ChatGPT iOS app is an outstanding product....\n",
       "2290  Sam Altman’s blatant attempt at regulatory cap...\n",
       "2291                                                  .\n",
       "\n",
       "[2292 rows x 1 columns]"
      ]
     },
     "execution_count": 18,
     "metadata": {},
     "output_type": "execute_result"
    }
   ],
   "source": [
    "pd.DataFrame(review)"
   ]
  },
  {
   "cell_type": "code",
   "execution_count": 20,
   "id": "c88bff2c",
   "metadata": {},
   "outputs": [
    {
     "data": {
      "text/plain": [
       "array(['positif', 'positif', 'positif', ..., 'positif', 'negatif',\n",
       "       'positif'], dtype=object)"
      ]
     },
     "execution_count": 20,
     "metadata": {},
     "output_type": "execute_result"
    }
   ],
   "source": [
    "predicted = svm_classifier.predict(np.asarray(review))\n",
    "predicted"
   ]
  },
  {
   "cell_type": "code",
   "execution_count": 23,
   "id": "e016aa2e",
   "metadata": {},
   "outputs": [],
   "source": [
    "result_review=[]\n",
    "for i in range(len(predicted)):\n",
    "    if(predicted[i]==\"positif\"):\n",
    "        sentiment_result=1\n",
    "    elif(predicted[i]==\"negatif\"):\n",
    "        sentiment_result=-1\n",
    "    elif(predicted[i]==\"netral\"):\n",
    "        sentiment_result=0\n",
    "    result_review.append({'review':review[i], 'class':predicted[i], 'result_svm':sentiment_result})"
   ]
  },
  {
   "cell_type": "code",
   "execution_count": 24,
   "id": "36c6fbc5",
   "metadata": {},
   "outputs": [
    {
     "data": {
      "text/html": [
       "<div>\n",
       "<style scoped>\n",
       "    .dataframe tbody tr th:only-of-type {\n",
       "        vertical-align: middle;\n",
       "    }\n",
       "\n",
       "    .dataframe tbody tr th {\n",
       "        vertical-align: top;\n",
       "    }\n",
       "\n",
       "    .dataframe thead th {\n",
       "        text-align: right;\n",
       "    }\n",
       "</style>\n",
       "<table border=\"1\" class=\"dataframe\">\n",
       "  <thead>\n",
       "    <tr style=\"text-align: right;\">\n",
       "      <th></th>\n",
       "      <th>review</th>\n",
       "      <th>class</th>\n",
       "      <th>result_svm</th>\n",
       "    </tr>\n",
       "  </thead>\n",
       "  <tbody>\n",
       "    <tr>\n",
       "      <th>0</th>\n",
       "      <td>Up to this point I’ve mostly been using ChatGP...</td>\n",
       "      <td>positif</td>\n",
       "      <td>1</td>\n",
       "    </tr>\n",
       "    <tr>\n",
       "      <th>1</th>\n",
       "      <td>I’ve been a user since it’s initial roll out a...</td>\n",
       "      <td>positif</td>\n",
       "      <td>1</td>\n",
       "    </tr>\n",
       "    <tr>\n",
       "      <th>2</th>\n",
       "      <td>This app would almost be perfect if it wasn’t ...</td>\n",
       "      <td>positif</td>\n",
       "      <td>1</td>\n",
       "    </tr>\n",
       "    <tr>\n",
       "      <th>3</th>\n",
       "      <td>I recently downloaded the app and overall, it'...</td>\n",
       "      <td>positif</td>\n",
       "      <td>1</td>\n",
       "    </tr>\n",
       "    <tr>\n",
       "      <th>4</th>\n",
       "      <td>I appreciate the devs implementing Siri suppor...</td>\n",
       "      <td>positif</td>\n",
       "      <td>1</td>\n",
       "    </tr>\n",
       "    <tr>\n",
       "      <th>...</th>\n",
       "      <td>...</td>\n",
       "      <td>...</td>\n",
       "      <td>...</td>\n",
       "    </tr>\n",
       "    <tr>\n",
       "      <th>2287</th>\n",
       "      <td>This has to be a beginning to something crazy ...</td>\n",
       "      <td>positif</td>\n",
       "      <td>1</td>\n",
       "    </tr>\n",
       "    <tr>\n",
       "      <th>2288</th>\n",
       "      <td>I’ve been using chat and have been a proud pre...</td>\n",
       "      <td>positif</td>\n",
       "      <td>1</td>\n",
       "    </tr>\n",
       "    <tr>\n",
       "      <th>2289</th>\n",
       "      <td>The ChatGPT iOS app is an outstanding product....</td>\n",
       "      <td>positif</td>\n",
       "      <td>1</td>\n",
       "    </tr>\n",
       "    <tr>\n",
       "      <th>2290</th>\n",
       "      <td>Sam Altman’s blatant attempt at regulatory cap...</td>\n",
       "      <td>negatif</td>\n",
       "      <td>-1</td>\n",
       "    </tr>\n",
       "    <tr>\n",
       "      <th>2291</th>\n",
       "      <td>.</td>\n",
       "      <td>positif</td>\n",
       "      <td>1</td>\n",
       "    </tr>\n",
       "  </tbody>\n",
       "</table>\n",
       "<p>2292 rows × 3 columns</p>\n",
       "</div>"
      ],
      "text/plain": [
       "                                                 review    class  result_svm\n",
       "0     Up to this point I’ve mostly been using ChatGP...  positif           1\n",
       "1     I’ve been a user since it’s initial roll out a...  positif           1\n",
       "2     This app would almost be perfect if it wasn’t ...  positif           1\n",
       "3     I recently downloaded the app and overall, it'...  positif           1\n",
       "4     I appreciate the devs implementing Siri suppor...  positif           1\n",
       "...                                                 ...      ...         ...\n",
       "2287  This has to be a beginning to something crazy ...  positif           1\n",
       "2288  I’ve been using chat and have been a proud pre...  positif           1\n",
       "2289  The ChatGPT iOS app is an outstanding product....  positif           1\n",
       "2290  Sam Altman’s blatant attempt at regulatory cap...  negatif          -1\n",
       "2291                                                  .  positif           1\n",
       "\n",
       "[2292 rows x 3 columns]"
      ]
     },
     "execution_count": 24,
     "metadata": {},
     "output_type": "execute_result"
    }
   ],
   "source": [
    "data=pd.DataFrame(result_review)\n",
    "data"
   ]
  },
  {
   "cell_type": "code",
   "execution_count": 27,
   "id": "78828ffd",
   "metadata": {},
   "outputs": [],
   "source": [
    "data.to_csv('C:/Users/HP/sentiment analysis/sentiment result.csv', sep=',')"
   ]
  },
  {
   "cell_type": "code",
   "execution_count": 25,
   "id": "226fab52",
   "metadata": {},
   "outputs": [
    {
     "data": {
      "text/html": [
       "<div>\n",
       "<style scoped>\n",
       "    .dataframe tbody tr th:only-of-type {\n",
       "        vertical-align: middle;\n",
       "    }\n",
       "\n",
       "    .dataframe tbody tr th {\n",
       "        vertical-align: top;\n",
       "    }\n",
       "\n",
       "    .dataframe thead th {\n",
       "        text-align: right;\n",
       "    }\n",
       "</style>\n",
       "<table border=\"1\" class=\"dataframe\">\n",
       "  <thead>\n",
       "    <tr style=\"text-align: right;\">\n",
       "      <th></th>\n",
       "      <th>review</th>\n",
       "      <th>class</th>\n",
       "    </tr>\n",
       "    <tr>\n",
       "      <th>result_svm</th>\n",
       "      <th></th>\n",
       "      <th></th>\n",
       "    </tr>\n",
       "  </thead>\n",
       "  <tbody>\n",
       "    <tr>\n",
       "      <th>-1</th>\n",
       "      <td>300</td>\n",
       "      <td>300</td>\n",
       "    </tr>\n",
       "    <tr>\n",
       "      <th>0</th>\n",
       "      <td>17</td>\n",
       "      <td>17</td>\n",
       "    </tr>\n",
       "    <tr>\n",
       "      <th>1</th>\n",
       "      <td>1975</td>\n",
       "      <td>1975</td>\n",
       "    </tr>\n",
       "  </tbody>\n",
       "</table>\n",
       "</div>"
      ],
      "text/plain": [
       "            review  class\n",
       "result_svm               \n",
       "-1             300    300\n",
       " 0              17     17\n",
       " 1            1975   1975"
      ]
     },
     "execution_count": 25,
     "metadata": {},
     "output_type": "execute_result"
    }
   ],
   "source": [
    "data.groupby(by='result_svm').agg('count')"
   ]
  },
  {
   "cell_type": "code",
   "execution_count": 26,
   "id": "d385b44a",
   "metadata": {},
   "outputs": [
    {
     "data": {
      "image/png": "[encoded data removed]",
      "text/plain": [
       "<Figure size 432x288 with 1 Axes>"
      ]
     },
     "metadata": {},
     "output_type": "display_data"
    }
   ],
   "source": [
    "labels = ['Positif','Negatif', 'Netral']\n",
    "quantity = [1975, 300, 17]\n",
    "colors = [ 'lightskyblue', 'lightcoral', 'yellow']\n",
    "\n",
    "plt.title('Predict Support Vector Machine')\n",
    "plt.pie(quantity, labels=labels, colors=colors,\n",
    "        autopct='%1.1f%%', shadow=True, startangle=90)\n",
    "\n",
    "plt.axis('equal')\n",
    "plt.show()"
   ]
  },
  {
   "cell_type": "code",
   "execution_count": null,
   "id": "fb46b1a5",
   "metadata": {},
   "outputs": [],
   "source": []
  }
 ],
 "metadata": {
  "kernelspec": {
   "display_name": "Python 3 (ipykernel)",
   "language": "python",
   "name": "python3"
  },
  "language_info": {
   "codemirror_mode": {
    "name": "ipython",
    "version": 3
   },
   "file_extension": ".py",
   "mimetype": "text/x-python",
   "name": "python",
   "nbconvert_exporter": "python",
   "pygments_lexer": "ipython3",
   "version": "3.9.7"
  }
 },
 "nbformat": 4,
 "nbformat_minor": 5
}
