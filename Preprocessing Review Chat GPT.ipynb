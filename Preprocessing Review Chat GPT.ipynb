{
 "cells": [
  {
   "cell_type": "code",
   "execution_count": 1,
   "id": "592b6c73",
   "metadata": {},
   "outputs": [],
   "source": [
    "import numpy as np\n",
    "import pandas as pd\n",
    "import matplotlib.pyplot as plt"
   ]
  },
  {
   "cell_type": "code",
   "execution_count": 2,
   "id": "dfc52c54",
   "metadata": {},
   "outputs": [],
   "source": [
    "data = pd.read_csv('C:/Users/HP/sentiment analysis/chatgpt_reviews.csv')"
   ]
  },
  {
   "cell_type": "code",
   "execution_count": 3,
   "id": "22172c4f",
   "metadata": {},
   "outputs": [
    {
     "data": {
      "text/plain": [
       "(2292, 2)"
      ]
     },
     "execution_count": 3,
     "metadata": {},
     "output_type": "execute_result"
    }
   ],
   "source": [
    "data.shape"
   ]
  },
  {
   "cell_type": "code",
   "execution_count": 4,
   "id": "9738e3d9",
   "metadata": {},
   "outputs": [
    {
     "data": {
      "text/html": [
       "<div>\n",
       "<style scoped>\n",
       "    .dataframe tbody tr th:only-of-type {\n",
       "        vertical-align: middle;\n",
       "    }\n",
       "\n",
       "    .dataframe tbody tr th {\n",
       "        vertical-align: top;\n",
       "    }\n",
       "\n",
       "    .dataframe thead th {\n",
       "        text-align: right;\n",
       "    }\n",
       "</style>\n",
       "<table border=\"1\" class=\"dataframe\">\n",
       "  <thead>\n",
       "    <tr style=\"text-align: right;\">\n",
       "      <th></th>\n",
       "      <th>review</th>\n",
       "      <th>rating</th>\n",
       "    </tr>\n",
       "  </thead>\n",
       "  <tbody>\n",
       "    <tr>\n",
       "      <th>0</th>\n",
       "      <td>Up to this point I’ve mostly been using ChatGP...</td>\n",
       "      <td>positif</td>\n",
       "    </tr>\n",
       "    <tr>\n",
       "      <th>1</th>\n",
       "      <td>I’ve been a user since it’s initial roll out a...</td>\n",
       "      <td>positif</td>\n",
       "    </tr>\n",
       "    <tr>\n",
       "      <th>2</th>\n",
       "      <td>This app would almost be perfect if it wasn’t ...</td>\n",
       "      <td>positif</td>\n",
       "    </tr>\n",
       "    <tr>\n",
       "      <th>3</th>\n",
       "      <td>I recently downloaded the app and overall, it'...</td>\n",
       "      <td>positif</td>\n",
       "    </tr>\n",
       "    <tr>\n",
       "      <th>4</th>\n",
       "      <td>I appreciate the devs implementing Siri suppor...</td>\n",
       "      <td>positif</td>\n",
       "    </tr>\n",
       "  </tbody>\n",
       "</table>\n",
       "</div>"
      ],
      "text/plain": [
       "                                              review   rating\n",
       "0  Up to this point I’ve mostly been using ChatGP...  positif\n",
       "1  I’ve been a user since it’s initial roll out a...  positif\n",
       "2  This app would almost be perfect if it wasn’t ...  positif\n",
       "3  I recently downloaded the app and overall, it'...  positif\n",
       "4  I appreciate the devs implementing Siri suppor...  positif"
      ]
     },
     "execution_count": 4,
     "metadata": {},
     "output_type": "execute_result"
    }
   ],
   "source": [
    "data.head()"
   ]
  },
  {
   "cell_type": "markdown",
   "id": "77235a4c",
   "metadata": {},
   "source": [
    "# Data Preprocessing"
   ]
  },
  {
   "cell_type": "code",
   "execution_count": 5,
   "id": "a3348172",
   "metadata": {},
   "outputs": [
    {
     "data": {
      "text/plain": [
       "32"
      ]
     },
     "execution_count": 5,
     "metadata": {},
     "output_type": "execute_result"
    }
   ],
   "source": [
    "data.duplicated().sum()"
   ]
  },
  {
   "cell_type": "code",
   "execution_count": 6,
   "id": "86a6cc32",
   "metadata": {},
   "outputs": [],
   "source": [
    "# menghapus duplikat data\n",
    "data = data.drop_duplicates()"
   ]
  },
  {
   "cell_type": "code",
   "execution_count": 7,
   "id": "048b09c9",
   "metadata": {},
   "outputs": [
    {
     "data": {
      "text/plain": [
       "review    0\n",
       "rating    0\n",
       "dtype: int64"
      ]
     },
     "execution_count": 7,
     "metadata": {},
     "output_type": "execute_result"
    }
   ],
   "source": [
    "data.isnull().sum()"
   ]
  },
  {
   "cell_type": "code",
   "execution_count": 8,
   "id": "df386a91",
   "metadata": {},
   "outputs": [
    {
     "name": "stdout",
     "output_type": "stream",
     "text": [
      "<class 'pandas.core.frame.DataFrame'>\n",
      "Int64Index: 2260 entries, 0 to 2291\n",
      "Data columns (total 2 columns):\n",
      " #   Column  Non-Null Count  Dtype \n",
      "---  ------  --------------  ----- \n",
      " 0   review  2260 non-null   object\n",
      " 1   rating  2260 non-null   object\n",
      "dtypes: object(2)\n",
      "memory usage: 53.0+ KB\n"
     ]
    }
   ],
   "source": [
    "data.info()"
   ]
  },
  {
   "cell_type": "code",
   "execution_count": 9,
   "id": "6e18add5",
   "metadata": {},
   "outputs": [
    {
     "data": {
      "text/html": [
       "<div>\n",
       "<style scoped>\n",
       "    .dataframe tbody tr th:only-of-type {\n",
       "        vertical-align: middle;\n",
       "    }\n",
       "\n",
       "    .dataframe tbody tr th {\n",
       "        vertical-align: top;\n",
       "    }\n",
       "\n",
       "    .dataframe thead th {\n",
       "        text-align: right;\n",
       "    }\n",
       "</style>\n",
       "<table border=\"1\" class=\"dataframe\">\n",
       "  <thead>\n",
       "    <tr style=\"text-align: right;\">\n",
       "      <th></th>\n",
       "      <th>review</th>\n",
       "      <th>rating</th>\n",
       "    </tr>\n",
       "  </thead>\n",
       "  <tbody>\n",
       "    <tr>\n",
       "      <th>count</th>\n",
       "      <td>2260</td>\n",
       "      <td>2260</td>\n",
       "    </tr>\n",
       "    <tr>\n",
       "      <th>unique</th>\n",
       "      <td>2257</td>\n",
       "      <td>3</td>\n",
       "    </tr>\n",
       "    <tr>\n",
       "      <th>top</th>\n",
       "      <td>Nice</td>\n",
       "      <td>positif</td>\n",
       "    </tr>\n",
       "    <tr>\n",
       "      <th>freq</th>\n",
       "      <td>2</td>\n",
       "      <td>1407</td>\n",
       "    </tr>\n",
       "  </tbody>\n",
       "</table>\n",
       "</div>"
      ],
      "text/plain": [
       "       review   rating\n",
       "count    2260     2260\n",
       "unique   2257        3\n",
       "top      Nice  positif\n",
       "freq        2     1407"
      ]
     },
     "execution_count": 9,
     "metadata": {},
     "output_type": "execute_result"
    }
   ],
   "source": [
    "data.describe()"
   ]
  },
  {
   "cell_type": "code",
   "execution_count": 10,
   "id": "62f5078f",
   "metadata": {},
   "outputs": [],
   "source": [
    "# Text preprocess\n",
    "# 1. Convert Uppercase to Lowercase\n",
    "# 2. Remove links\n",
    "# 3. Remove Punctuations\n",
    "# 4. Remove Number\n",
    "# 5. Remove Stopwords\n",
    "# 6. Stemming"
   ]
  },
  {
   "cell_type": "code",
   "execution_count": 11,
   "id": "11208e3f",
   "metadata": {},
   "outputs": [],
   "source": [
    "import re\n",
    "import string"
   ]
  },
  {
   "cell_type": "code",
   "execution_count": 12,
   "id": "ccd299d7",
   "metadata": {},
   "outputs": [],
   "source": [
    "#Convert uppercase to lowercase"
   ]
  },
  {
   "cell_type": "code",
   "execution_count": 13,
   "id": "d6ae96e8",
   "metadata": {},
   "outputs": [],
   "source": [
    "data['review'] = data['review'].apply(lambda x:' '.join(x.lower() for x in x.split()))"
   ]
  },
  {
   "cell_type": "code",
   "execution_count": 14,
   "id": "33e8dbd1",
   "metadata": {},
   "outputs": [
    {
     "data": {
      "text/plain": [
       "0    up to this point i’ve mostly been using chatgp...\n",
       "1    i’ve been a user since it’s initial roll out a...\n",
       "2    this app would almost be perfect if it wasn’t ...\n",
       "3    i recently downloaded the app and overall, it'...\n",
       "4    i appreciate the devs implementing siri suppor...\n",
       "Name: review, dtype: object"
      ]
     },
     "execution_count": 14,
     "metadata": {},
     "output_type": "execute_result"
    }
   ],
   "source": [
    "data['review'].head()"
   ]
  },
  {
   "cell_type": "code",
   "execution_count": 15,
   "id": "094fc1a9",
   "metadata": {},
   "outputs": [],
   "source": [
    "# Remove Links"
   ]
  },
  {
   "cell_type": "code",
   "execution_count": 16,
   "id": "926794db",
   "metadata": {},
   "outputs": [],
   "source": [
    "data['review'] = data['review'].apply(lambda x:' '.join(re.sub(r'^https?:\\/\\/.*[\\r\\n]*','',x,flags=re.MULTILINE) for x in x.split()))"
   ]
  },
  {
   "cell_type": "code",
   "execution_count": 17,
   "id": "656a7c87",
   "metadata": {},
   "outputs": [
    {
     "data": {
      "text/plain": [
       "0    up to this point i’ve mostly been using chatgp...\n",
       "1    i’ve been a user since it’s initial roll out a...\n",
       "2    this app would almost be perfect if it wasn’t ...\n",
       "3    i recently downloaded the app and overall, it'...\n",
       "4    i appreciate the devs implementing siri suppor...\n",
       "Name: review, dtype: object"
      ]
     },
     "execution_count": 17,
     "metadata": {},
     "output_type": "execute_result"
    }
   ],
   "source": [
    "data['review'].head()"
   ]
  },
  {
   "cell_type": "code",
   "execution_count": 18,
   "id": "9f1a32e4",
   "metadata": {},
   "outputs": [],
   "source": [
    "# Remove Punctuation"
   ]
  },
  {
   "cell_type": "code",
   "execution_count": 19,
   "id": "30ceecfd",
   "metadata": {},
   "outputs": [],
   "source": [
    "def remove_punctuations(text):\n",
    "    for punctuation in string.punctuation:\n",
    "        text=text.replace(punctuation,'')\n",
    "    return text\n",
    "data['review'] = data['review'].apply(remove_punctuations)"
   ]
  },
  {
   "cell_type": "code",
   "execution_count": 20,
   "id": "c695ff9c",
   "metadata": {},
   "outputs": [
    {
     "data": {
      "text/plain": [
       "0    up to this point i’ve mostly been using chatgp...\n",
       "1    i’ve been a user since it’s initial roll out a...\n",
       "2    this app would almost be perfect if it wasn’t ...\n",
       "3    i recently downloaded the app and overall its ...\n",
       "4    i appreciate the devs implementing siri suppor...\n",
       "Name: review, dtype: object"
      ]
     },
     "execution_count": 20,
     "metadata": {},
     "output_type": "execute_result"
    }
   ],
   "source": [
    "data['review'].head()"
   ]
  },
  {
   "cell_type": "code",
   "execution_count": 21,
   "id": "6edd046d",
   "metadata": {},
   "outputs": [],
   "source": [
    "# Remove Numbers"
   ]
  },
  {
   "cell_type": "code",
   "execution_count": 22,
   "id": "d898629c",
   "metadata": {},
   "outputs": [],
   "source": [
    "data['review']=data['review'].str.replace('\\d+','', regex=True)"
   ]
  },
  {
   "cell_type": "code",
   "execution_count": 23,
   "id": "4f5b590d",
   "metadata": {},
   "outputs": [],
   "source": [
    "#Remove Stopwords"
   ]
  },
  {
   "cell_type": "code",
   "execution_count": 24,
   "id": "3460b097",
   "metadata": {},
   "outputs": [],
   "source": [
    "import nltk"
   ]
  },
  {
   "cell_type": "code",
   "execution_count": 25,
   "id": "ac0a7e3c",
   "metadata": {},
   "outputs": [
    {
     "name": "stderr",
     "output_type": "stream",
     "text": [
      "[nltk_data] Downloading package stopwords to C:/Users/HP/sentiment\n",
      "[nltk_data]     analysis...\n",
      "[nltk_data]   Package stopwords is already up-to-date!\n"
     ]
    },
    {
     "data": {
      "text/plain": [
       "True"
      ]
     },
     "execution_count": 25,
     "metadata": {},
     "output_type": "execute_result"
    }
   ],
   "source": [
    "nltk.download('stopwords', download_dir='C:/Users/HP/sentiment analysis')"
   ]
  },
  {
   "cell_type": "code",
   "execution_count": 26,
   "id": "7e4bc862",
   "metadata": {},
   "outputs": [],
   "source": [
    "with open('C:/Users/HP/sentiment analysis/corpora/stopwords/english','r') as file:\n",
    "    sw=file.read().splitlines()"
   ]
  },
  {
   "cell_type": "code",
   "execution_count": 27,
   "id": "3574a52c",
   "metadata": {},
   "outputs": [
    {
     "data": {
      "text/plain": [
       "['i',\n",
       " 'me',\n",
       " 'my',\n",
       " 'myself',\n",
       " 'we',\n",
       " 'our',\n",
       " 'ours',\n",
       " 'ourselves',\n",
       " 'you',\n",
       " \"you're\",\n",
       " \"you've\",\n",
       " \"you'll\",\n",
       " \"you'd\",\n",
       " 'your',\n",
       " 'yours',\n",
       " 'yourself',\n",
       " 'yourselves',\n",
       " 'he',\n",
       " 'him',\n",
       " 'his',\n",
       " 'himself',\n",
       " 'she',\n",
       " \"she's\",\n",
       " 'her',\n",
       " 'hers',\n",
       " 'herself',\n",
       " 'it',\n",
       " \"it's\",\n",
       " 'its',\n",
       " 'itself',\n",
       " 'they',\n",
       " 'them',\n",
       " 'their',\n",
       " 'theirs',\n",
       " 'themselves',\n",
       " 'what',\n",
       " 'which',\n",
       " 'who',\n",
       " 'whom',\n",
       " 'this',\n",
       " 'that',\n",
       " \"that'll\",\n",
       " 'these',\n",
       " 'those',\n",
       " 'am',\n",
       " 'is',\n",
       " 'are',\n",
       " 'was',\n",
       " 'were',\n",
       " 'be',\n",
       " 'been',\n",
       " 'being',\n",
       " 'have',\n",
       " 'has',\n",
       " 'had',\n",
       " 'having',\n",
       " 'do',\n",
       " 'does',\n",
       " 'did',\n",
       " 'doing',\n",
       " 'a',\n",
       " 'an',\n",
       " 'the',\n",
       " 'and',\n",
       " 'but',\n",
       " 'if',\n",
       " 'or',\n",
       " 'because',\n",
       " 'as',\n",
       " 'until',\n",
       " 'while',\n",
       " 'of',\n",
       " 'at',\n",
       " 'by',\n",
       " 'for',\n",
       " 'with',\n",
       " 'about',\n",
       " 'against',\n",
       " 'between',\n",
       " 'into',\n",
       " 'through',\n",
       " 'during',\n",
       " 'before',\n",
       " 'after',\n",
       " 'above',\n",
       " 'below',\n",
       " 'to',\n",
       " 'from',\n",
       " 'up',\n",
       " 'down',\n",
       " 'in',\n",
       " 'out',\n",
       " 'on',\n",
       " 'off',\n",
       " 'over',\n",
       " 'under',\n",
       " 'again',\n",
       " 'further',\n",
       " 'then',\n",
       " 'once',\n",
       " 'here',\n",
       " 'there',\n",
       " 'when',\n",
       " 'where',\n",
       " 'why',\n",
       " 'how',\n",
       " 'all',\n",
       " 'any',\n",
       " 'both',\n",
       " 'each',\n",
       " 'few',\n",
       " 'more',\n",
       " 'most',\n",
       " 'other',\n",
       " 'some',\n",
       " 'such',\n",
       " 'no',\n",
       " 'nor',\n",
       " 'not',\n",
       " 'only',\n",
       " 'own',\n",
       " 'same',\n",
       " 'so',\n",
       " 'than',\n",
       " 'too',\n",
       " 'very',\n",
       " 's',\n",
       " 't',\n",
       " 'can',\n",
       " 'will',\n",
       " 'just',\n",
       " 'don',\n",
       " \"don't\",\n",
       " 'should',\n",
       " \"should've\",\n",
       " 'now',\n",
       " 'd',\n",
       " 'll',\n",
       " 'm',\n",
       " 'o',\n",
       " 're',\n",
       " 've',\n",
       " 'y',\n",
       " 'ain',\n",
       " 'aren',\n",
       " \"aren't\",\n",
       " 'couldn',\n",
       " \"couldn't\",\n",
       " 'didn',\n",
       " \"didn't\",\n",
       " 'doesn',\n",
       " \"doesn't\",\n",
       " 'hadn',\n",
       " \"hadn't\",\n",
       " 'hasn',\n",
       " \"hasn't\",\n",
       " 'haven',\n",
       " \"haven't\",\n",
       " 'isn',\n",
       " \"isn't\",\n",
       " 'ma',\n",
       " 'mightn',\n",
       " \"mightn't\",\n",
       " 'mustn',\n",
       " \"mustn't\",\n",
       " 'needn',\n",
       " \"needn't\",\n",
       " 'shan',\n",
       " \"shan't\",\n",
       " 'shouldn',\n",
       " \"shouldn't\",\n",
       " 'wasn',\n",
       " \"wasn't\",\n",
       " 'weren',\n",
       " \"weren't\",\n",
       " 'won',\n",
       " \"won't\",\n",
       " 'wouldn',\n",
       " \"wouldn't\"]"
      ]
     },
     "execution_count": 27,
     "metadata": {},
     "output_type": "execute_result"
    }
   ],
   "source": [
    "sw"
   ]
  },
  {
   "cell_type": "code",
   "execution_count": 28,
   "id": "3cdc6e28",
   "metadata": {},
   "outputs": [],
   "source": [
    "data['review'] = data['review'].apply(lambda x:' '.join(x for x in x.split() if x not in sw))"
   ]
  },
  {
   "cell_type": "code",
   "execution_count": 29,
   "id": "9b91fea5",
   "metadata": {},
   "outputs": [],
   "source": [
    "#Stemming"
   ]
  },
  {
   "cell_type": "code",
   "execution_count": 30,
   "id": "17177868",
   "metadata": {},
   "outputs": [],
   "source": [
    "from nltk.stem import PorterStemmer\n",
    "ps=PorterStemmer()"
   ]
  },
  {
   "cell_type": "code",
   "execution_count": 31,
   "id": "7cdfedc0",
   "metadata": {},
   "outputs": [],
   "source": [
    "data['review'] = data['review'].apply(lambda x:' '.join(ps.stem(x) for x in x.split()))"
   ]
  },
  {
   "cell_type": "code",
   "execution_count": 32,
   "id": "faa72dc1",
   "metadata": {},
   "outputs": [
    {
     "data": {
      "text/plain": [
       "0    point i’v mostli use chatgpt window desktop us...\n",
       "1    i’v user sinc it’ initi roll wait mobil applic...\n",
       "2    app would almost perfect wasn’t one littl thin...\n",
       "3    recent download app overal great platform exce...\n",
       "4    appreci dev implement siri support—it alreadi ...\n",
       "Name: review, dtype: object"
      ]
     },
     "execution_count": 32,
     "metadata": {},
     "output_type": "execute_result"
    }
   ],
   "source": [
    "data['review'].head()"
   ]
  },
  {
   "cell_type": "code",
   "execution_count": 33,
   "id": "8faf7e80",
   "metadata": {},
   "outputs": [],
   "source": [
    "# Building Vocabulary"
   ]
  },
  {
   "cell_type": "code",
   "execution_count": 34,
   "id": "95217ccb",
   "metadata": {},
   "outputs": [],
   "source": [
    "from collections import Counter\n",
    "vocabulary=Counter()"
   ]
  },
  {
   "cell_type": "code",
   "execution_count": 35,
   "id": "984e825e",
   "metadata": {},
   "outputs": [],
   "source": [
    "for sentence in data['review']:\n",
    "    vocabulary.update(sentence.split())"
   ]
  },
  {
   "cell_type": "code",
   "execution_count": 36,
   "id": "3ef980f0",
   "metadata": {},
   "outputs": [
    {
     "data": {
      "text/plain": [
       "5286"
      ]
     },
     "execution_count": 36,
     "metadata": {},
     "output_type": "execute_result"
    }
   ],
   "source": [
    "len(vocabulary)"
   ]
  },
  {
   "cell_type": "code",
   "execution_count": 37,
   "id": "3171767e",
   "metadata": {},
   "outputs": [],
   "source": [
    "tokens = [key for key in vocabulary if vocabulary[key]>10]"
   ]
  },
  {
   "cell_type": "code",
   "execution_count": 38,
   "id": "2041fe24",
   "metadata": {},
   "outputs": [
    {
     "data": {
      "text/plain": [
       "739"
      ]
     },
     "execution_count": 38,
     "metadata": {},
     "output_type": "execute_result"
    }
   ],
   "source": [
    "len(tokens)"
   ]
  },
  {
   "cell_type": "code",
   "execution_count": 39,
   "id": "f170e06c",
   "metadata": {},
   "outputs": [
    {
     "data": {
      "text/html": [
       "<div>\n",
       "<style scoped>\n",
       "    .dataframe tbody tr th:only-of-type {\n",
       "        vertical-align: middle;\n",
       "    }\n",
       "\n",
       "    .dataframe tbody tr th {\n",
       "        vertical-align: top;\n",
       "    }\n",
       "\n",
       "    .dataframe thead th {\n",
       "        text-align: right;\n",
       "    }\n",
       "</style>\n",
       "<table border=\"1\" class=\"dataframe\">\n",
       "  <thead>\n",
       "    <tr style=\"text-align: right;\">\n",
       "      <th></th>\n",
       "      <th>review</th>\n",
       "      <th>rating</th>\n",
       "    </tr>\n",
       "  </thead>\n",
       "  <tbody>\n",
       "    <tr>\n",
       "      <th>0</th>\n",
       "      <td>point i’v mostli use chatgpt window desktop us...</td>\n",
       "      <td>positif</td>\n",
       "    </tr>\n",
       "    <tr>\n",
       "      <th>1</th>\n",
       "      <td>i’v user sinc it’ initi roll wait mobil applic...</td>\n",
       "      <td>positif</td>\n",
       "    </tr>\n",
       "    <tr>\n",
       "      <th>2</th>\n",
       "      <td>app would almost perfect wasn’t one littl thin...</td>\n",
       "      <td>positif</td>\n",
       "    </tr>\n",
       "    <tr>\n",
       "      <th>3</th>\n",
       "      <td>recent download app overal great platform exce...</td>\n",
       "      <td>positif</td>\n",
       "    </tr>\n",
       "    <tr>\n",
       "      <th>4</th>\n",
       "      <td>appreci dev implement siri support—it alreadi ...</td>\n",
       "      <td>positif</td>\n",
       "    </tr>\n",
       "    <tr>\n",
       "      <th>...</th>\n",
       "      <td>...</td>\n",
       "      <td>...</td>\n",
       "    </tr>\n",
       "    <tr>\n",
       "      <th>2287</th>\n",
       "      <td>begin someth crazi let y’all know i’v sinc day...</td>\n",
       "      <td>positif</td>\n",
       "    </tr>\n",
       "    <tr>\n",
       "      <th>2288</th>\n",
       "      <td>i’v use chat proud premium subscrib awhil help...</td>\n",
       "      <td>positif</td>\n",
       "    </tr>\n",
       "    <tr>\n",
       "      <th>2289</th>\n",
       "      <td>chatgpt io app outstand product seamless funct...</td>\n",
       "      <td>positif</td>\n",
       "    </tr>\n",
       "    <tr>\n",
       "      <th>2290</th>\n",
       "      <td>sam altman’ blatant attempt regulatori captur ...</td>\n",
       "      <td>negatif</td>\n",
       "    </tr>\n",
       "    <tr>\n",
       "      <th>2291</th>\n",
       "      <td></td>\n",
       "      <td>positif</td>\n",
       "    </tr>\n",
       "  </tbody>\n",
       "</table>\n",
       "<p>2260 rows × 2 columns</p>\n",
       "</div>"
      ],
      "text/plain": [
       "                                                 review   rating\n",
       "0     point i’v mostli use chatgpt window desktop us...  positif\n",
       "1     i’v user sinc it’ initi roll wait mobil applic...  positif\n",
       "2     app would almost perfect wasn’t one littl thin...  positif\n",
       "3     recent download app overal great platform exce...  positif\n",
       "4     appreci dev implement siri support—it alreadi ...  positif\n",
       "...                                                 ...      ...\n",
       "2287  begin someth crazi let y’all know i’v sinc day...  positif\n",
       "2288  i’v use chat proud premium subscrib awhil help...  positif\n",
       "2289  chatgpt io app outstand product seamless funct...  positif\n",
       "2290  sam altman’ blatant attempt regulatori captur ...  negatif\n",
       "2291                                                     positif\n",
       "\n",
       "[2260 rows x 2 columns]"
      ]
     },
     "execution_count": 39,
     "metadata": {},
     "output_type": "execute_result"
    }
   ],
   "source": [
    "data"
   ]
  },
  {
   "cell_type": "code",
   "execution_count": 40,
   "id": "3dcf1e38",
   "metadata": {},
   "outputs": [],
   "source": [
    "data.to_csv('C:/Users/HP/sentiment analysis/review_chatgpt_clean.csv', sep=',')"
   ]
  }
 ],
 "metadata": {
  "kernelspec": {
   "display_name": "Python 3 (ipykernel)",
   "language": "python",
   "name": "python3"
  },
  "language_info": {
   "codemirror_mode": {
    "name": "ipython",
    "version": 3
   },
   "file_extension": ".py",
   "mimetype": "text/x-python",
   "name": "python",
   "nbconvert_exporter": "python",
   "pygments_lexer": "ipython3",
   "version": "3.9.7"
  }
 },
 "nbformat": 4,
 "nbformat_minor": 5
}
